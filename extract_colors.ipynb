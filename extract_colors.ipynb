{
 "cells": [
  {
   "cell_type": "code",
   "execution_count": 1,
   "metadata": {},
   "outputs": [],
   "source": [
    "import requests\n",
    "import json\n",
    "from bs4 import BeautifulSoup"
   ]
  },
  {
   "cell_type": "markdown",
   "metadata": {},
   "source": [
    "### Extract table from link"
   ]
  },
  {
   "cell_type": "code",
   "execution_count": 2,
   "metadata": {},
   "outputs": [],
   "source": [
    "def extract_table(url):\n",
    "    res = requests.get(url=url)\n",
    "    con = res.text\n",
    "    soup = BeautifulSoup(con, features='lxml')\n",
    "    con_table = soup.find('table', attrs={'class' : 'color-list'})\n",
    "    headings = [th.get_text().lower() for th in con_table.find(\"tr\").find_all(\"th\")]\n",
    "    table_rows = [headings]\n",
    "    for row in con_table.find_all(\"tr\")[1:]:\n",
    "        each_row = [td.get_text().lower() for td in row.find_all(\"td\")]\n",
    "        table_rows.append(each_row)\n",
    "    return table_rows"
   ]
  },
  {
   "cell_type": "code",
   "execution_count": 3,
   "metadata": {
    "scrolled": true
   },
   "outputs": [],
   "source": [
    "col_url = \"https://www.colorhexa.com/color-names\"\n",
    "color_rows_ = extract_table(url=col_url)"
   ]
  },
  {
   "cell_type": "markdown",
   "metadata": {},
   "source": [
    "### Take `rgb` and `hex` values"
   ]
  },
  {
   "cell_type": "code",
   "execution_count": 4,
   "metadata": {},
   "outputs": [],
   "source": [
    "color_dict = {}\n",
    "for co in color_rows_[1:]:\n",
    "    color_dict[co[0]] = {\n",
    "        'r' : int(co[2]),\n",
    "        'g' : int(co[3]),\n",
    "        'b' : int(co[4]),\n",
    "        'hex' : co[1]\n",
    "    }"
   ]
  },
  {
   "cell_type": "markdown",
   "metadata": {},
   "source": [
    "### Write into `json` file"
   ]
  },
  {
   "cell_type": "code",
   "execution_count": 5,
   "metadata": {},
   "outputs": [],
   "source": [
    "with open(file='color_names_data.json', mode='w') as col_json:\n",
    "    json.dump(obj=color_dict, fp=col_json, indent=2)"
   ]
  }
 ],
 "metadata": {
  "kernelspec": {
   "display_name": "Python 3",
   "language": "python",
   "name": "python3"
  },
  "language_info": {
   "codemirror_mode": {
    "name": "ipython",
    "version": 3
   },
   "file_extension": ".py",
   "mimetype": "text/x-python",
   "name": "python",
   "nbconvert_exporter": "python",
   "pygments_lexer": "ipython3",
   "version": "3.8.4"
  }
 },
 "nbformat": 4,
 "nbformat_minor": 4
}
